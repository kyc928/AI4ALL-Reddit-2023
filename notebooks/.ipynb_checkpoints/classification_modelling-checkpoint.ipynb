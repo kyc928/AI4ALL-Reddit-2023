{
 "cells": [
  {
   "cell_type": "code",
   "execution_count": null,
   "id": "18b7c76d-67f3-4754-86d4-297ede25cd71",
   "metadata": {},
   "outputs": [],
   "source": [
    "import praw\n",
    "import json\n",
    "import pandas as pd\n",
    "import numpy as np\n",
    "from datasets import load_dataset, Dataset\n",
    "import evaluate\n",
    "\n",
    "from transformers import AutoTokenizer\n",
    "from transformers import DataCollatorWithPadding\n",
    "from transformers import AutoModelForSequenceClassification, TrainingArguments, Trainer\n",
    "from transformers import pipeline"
   ]
  },
  {
   "cell_type": "code",
   "execution_count": null,
   "id": "be113b82-824f-4bcb-acf4-164129c82dc1",
   "metadata": {},
   "outputs": [],
   "source": [
    "with open('../data/reddit_scraping/classification_labels.json') as json_file:\n",
    "    classification_labels = pd.DataFrame(json.load(json_file))\n",
    "    classification_labels[\"gender_label\"] = classification_labels[\"gender_label\"].map({\n",
    "        \"Male\": 0,\n",
    "        \"Female\": 1,\n",
    "        \"Non-Binary\": 2,\n",
    "        \"Not Disclosed\": 3\n",
    "    })\n",
    "    classification_labels[\"subject_label\"] = classification_labels[\"subject_label\"].map({\n",
    "        \"Self\": 0,\n",
    "        \"Other\": 1\n",
    "    })"
   ]
  },
  {
   "cell_type": "code",
   "execution_count": null,
   "id": "cba003d8-a636-4ef8-9484-8b0bc1b0d1e8",
   "metadata": {},
   "outputs": [],
   "source": [
    "classification_labels = Dataset.from_pandas(classification_labels)\n",
    "classification_labels = classification_labels.train_test_split(test_size=0.1)"
   ]
  },
  {
   "cell_type": "code",
   "execution_count": null,
   "id": "ded2ad31-3701-4dae-af4a-43b61657cf12",
   "metadata": {},
   "outputs": [],
   "source": [
    "tokenizer = AutoTokenizer.from_pretrained(\"distilbert-base-cased\")"
   ]
  },
  {
   "cell_type": "code",
   "execution_count": null,
   "id": "b4f37db2-7dff-4acc-8ce2-3288ee367d27",
   "metadata": {},
   "outputs": [],
   "source": [
    "def preprocess_function_gender(examples):\n",
    "    examples[\"text\"] = examples[\"context\"]\n",
    "    examples[\"label\"] = examples[\"gender_label\"]\n",
    "    return tokenizer(examples[\"text\"], truncation=True, padding = True)\n",
    "tokenized_posts_gender = classification_labels.map(preprocess_function_gender, batched=True)\n",
    "\n",
    "def preprocess_function_subject(examples):\n",
    "    examples[\"text\"] = examples[\"context\"]\n",
    "    examples[\"label\"] = examples[\"subject_label\"]\n",
    "    return tokenizer(examples[\"text\"], truncation=True, padding = True)\n",
    "tokenized_posts_subject = classification_labels.map(preprocess_function_subject, batched=True)"
   ]
  },
  {
   "cell_type": "code",
   "execution_count": null,
   "id": "01bcd864-3602-4bc3-98fa-6a6cfc3ac5f5",
   "metadata": {},
   "outputs": [],
   "source": [
    "data_collator = DataCollatorWithPadding(tokenizer=tokenizer)"
   ]
  },
  {
   "cell_type": "code",
   "execution_count": null,
   "id": "f03981d7-5462-481b-8ccf-0a0430d5ff32",
   "metadata": {
    "scrolled": true
   },
   "outputs": [],
   "source": [
    "gender_model = AutoModelForSequenceClassification.from_pretrained(\n",
    "    \"distilbert-base-cased\", \n",
    "    num_labels=4, \n",
    "    id2label={\n",
    "        0: \"Male\",\n",
    "        1: \"Female\",\n",
    "        2: \"Non-Binary\",\n",
    "        3: \"Not Disclosed\"\n",
    "    }, \n",
    "    label2id={\n",
    "        \"Male\": 0,\n",
    "        \"Female\": 1,\n",
    "        \"Non-Binary\": 2,\n",
    "        \"Not Disclosed\": 3\n",
    "    }\n",
    ")\n",
    "\n",
    "subject_model = AutoModelForSequenceClassification.from_pretrained(\n",
    "    \"distilbert-base-cased\", \n",
    "    num_labels=2, \n",
    "    id2label={\n",
    "        0: \"Self\",\n",
    "        1: \"Other\"\n",
    "    }, \n",
    "    label2id={\n",
    "        \"Self\": 0,\n",
    "        \"Other\": 1\n",
    "    }\n",
    ")"
   ]
  },
  {
   "cell_type": "code",
   "execution_count": null,
   "id": "3c4a6ff9-0727-48f0-9ae2-30857dce8869",
   "metadata": {},
   "outputs": [],
   "source": [
    "recall_metric = evaluate.load(\"recall\")\n",
    "precision_metric = evaluate.load(\"precision\")\n",
    "f1_metric = evaluate.load(\"f1\")\n",
    "accuracy_metric = evaluate.load(\"accuracy\")\n",
    "\n",
    "def compute_metrics(eval_pred):\n",
    "    logits, labels = eval_pred\n",
    "    predictions = np.argmax(logits, axis=-1)\n",
    "    return {\n",
    "        'recall': recall_metric.compute(predictions=predictions, references=labels, average=\"weighted\")['recall'],\n",
    "        'precision': precision_metric.compute(predictions=predictions, references=labels, average=\"weighted\")['precision'],\n",
    "        'f1 score': f1_metric.compute(predictions=predictions, references=labels, average=\"weighted\")['f1'],\n",
    "        'accuracy': accuracy_metric.compute(predictions=predictions, references=labels)['accuracy'],\n",
    "    }"
   ]
  },
  {
   "cell_type": "code",
   "execution_count": null,
   "id": "6d62c2a9-87ce-4e40-9c90-1a2866b73945",
   "metadata": {},
   "outputs": [],
   "source": [
    "gender_training_args = TrainingArguments(\n",
    "    output_dir=\"../models/gender_training\",\n",
    "    learning_rate=5e-5,\n",
    "    per_device_train_batch_size=16,\n",
    "    per_device_eval_batch_size=16,\n",
    "    num_train_epochs=10,\n",
    "    weight_decay=0.01, \n",
    "    evaluation_strategy=\"epoch\",\n",
    "    save_strategy=\"epoch\",\n",
    "    load_best_model_at_end=True,\n",
    "    use_mps_device=True\n",
    ")\n",
    "\n",
    "gender_trainer = Trainer(\n",
    "    model=gender_model,\n",
    "    args=gender_training_args,\n",
    "    train_dataset=tokenized_posts_gender[\"train\"],\n",
    "    eval_dataset=tokenized_posts_gender[\"test\"],\n",
    "    tokenizer=tokenizer,\n",
    "    data_collator=data_collator,\n",
    "    compute_metrics=compute_metrics,\n",
    ")\n",
    "\n",
    "gender_trainer.train()"
   ]
  },
  {
   "cell_type": "code",
   "execution_count": null,
   "id": "3ea77d30-005c-4f20-b219-2ba7a9f1906f",
   "metadata": {},
   "outputs": [],
   "source": [
    "gender_trainer.save_model(\"../models/gender_training\")"
   ]
  },
  {
   "cell_type": "code",
   "execution_count": null,
   "id": "a67c1775-a351-4b77-aa07-f5f4d35f7aa9",
   "metadata": {},
   "outputs": [],
   "source": [
    "subject_training_args = TrainingArguments(\n",
    "    output_dir=\"../models/subject_training\",\n",
    "    learning_rate=5e-5,\n",
    "    per_device_train_batch_size=16,\n",
    "    per_device_eval_batch_size=16,\n",
    "    num_train_epochs=10,\n",
    "    weight_decay=0.01, \n",
    "    evaluation_strategy=\"epoch\",\n",
    "    save_strategy=\"epoch\",\n",
    "    load_best_model_at_end=True,\n",
    "    use_mps_device=True\n",
    ")\n",
    "\n",
    "subject_trainer = Trainer(\n",
    "    model=subject_model,\n",
    "    args=subject_training_args,\n",
    "    train_dataset=tokenized_posts_gender[\"train\"],\n",
    "    eval_dataset=tokenized_posts_gender[\"test\"],\n",
    "    tokenizer=tokenizer,\n",
    "    data_collator=data_collator,\n",
    "    compute_metrics=compute_metrics,\n",
    ")\n",
    "\n",
    "subject_trainer.train()"
   ]
  },
  {
   "cell_type": "code",
   "execution_count": null,
   "id": "aed78b93-dffe-488f-8658-1e011652827f",
   "metadata": {},
   "outputs": [],
   "source": [
    "subject_trainer.save_model(\"../models/subject_training\")"
   ]
  },
  {
   "cell_type": "markdown",
   "id": "44b40d25-9e52-4107-9642-a75f7feca47b",
   "metadata": {},
   "source": [
    "# Test Model"
   ]
  },
  {
   "cell_type": "code",
   "execution_count": null,
   "id": "840c38f3-ed36-4555-861b-0f1722fd42e7",
   "metadata": {},
   "outputs": [],
   "source": [
    "with open('../reddit_api.json') as json_file:\n",
    "    reddit_api_credentials = json.load(json_file)\n",
    "    reddit_read_only = praw.Reddit(client_id=reddit_api_credentials['client_id'],\n",
    "                                   client_secret=reddit_api_credentials['secret'],\n",
    "                                   user_agent=reddit_api_credentials['user_agent']) \n",
    "\n",
    "subreddit = reddit_read_only.subreddit(\"AskDocs\")"
   ]
  },
  {
   "cell_type": "code",
   "execution_count": null,
   "id": "76e02ff9-e5a4-487f-b8c6-dc7ff6224d4d",
   "metadata": {},
   "outputs": [],
   "source": [
    "random_post = subreddit.random()\n",
    "context = f\"{random_post.title}\\n{random_post.selftext}\"\n",
    "context"
   ]
  },
  {
   "cell_type": "code",
   "execution_count": null,
   "id": "64e751b5-2b78-48e1-a3d8-80afb3a2351f",
   "metadata": {},
   "outputs": [],
   "source": [
    "classifier = pipeline(\"text-classification\", \n",
    "                             truncation=True, \n",
    "                             padding = True, \n",
    "                             model=\"../models/gender_training\")\n",
    "classifier(context)"
   ]
  },
  {
   "cell_type": "code",
   "execution_count": null,
   "id": "1738c659-61b2-4c4e-9eb4-29ec6f6d6bf1",
   "metadata": {},
   "outputs": [],
   "source": [
    "classifier = pipeline(\"text-classification\", \n",
    "                             truncation=True, \n",
    "                             padding = True, \n",
    "                             model=\"../models/subject_training\")\n",
    "classifier(context)"
   ]
  },
  {
   "cell_type": "code",
   "execution_count": null,
   "id": "8599819d-b7c8-4c83-94b7-7e2b1d6a79d8",
   "metadata": {},
   "outputs": [],
   "source": [
    "gender_trainer.evaluate()"
   ]
  },
  {
   "cell_type": "code",
   "execution_count": null,
   "id": "368cdd3d-62ef-4ce4-bde4-925fe89c0096",
   "metadata": {},
   "outputs": [],
   "source": [
    "subject_trainer.evaluate()"
   ]
  },
  {
   "cell_type": "code",
   "execution_count": null,
   "id": "2b7eec66-21aa-4321-b98e-393c18b7ea6c",
   "metadata": {},
   "outputs": [],
   "source": []
  }
 ],
 "metadata": {
  "kernelspec": {
   "display_name": "Python 3 (ipykernel)",
   "language": "python",
   "name": "python3"
  },
  "language_info": {
   "codemirror_mode": {
    "name": "ipython",
    "version": 3
   },
   "file_extension": ".py",
   "mimetype": "text/x-python",
   "name": "python",
   "nbconvert_exporter": "python",
   "pygments_lexer": "ipython3",
   "version": "3.9.10"
  }
 },
 "nbformat": 4,
 "nbformat_minor": 5
}
