{
 "cells": [
  {
   "cell_type": "code",
   "execution_count": null,
   "id": "ec168c4e-d0fa-43c9-9fd6-ab1f965e2508",
   "metadata": {},
   "outputs": [],
   "source": [
    "import json\n",
    "import praw\n",
    "import os\n",
    "import pandas as pd\n",
    "\n",
    "import re\n",
    "import nltk\n",
    "from nltk.tokenize import TreebankWordTokenizer\n",
    "\n",
    "import jupyterannotate"
   ]
  },
  {
   "cell_type": "code",
   "execution_count": null,
   "id": "9d00ead5-63ec-4bb0-a87f-f7ffcb2cfddd",
   "metadata": {},
   "outputs": [],
   "source": [
    "with open('../reddit_api.json') as json_file:\n",
    "    reddit_api_credentials = json.load(json_file)\n",
    "    reddit_read_only = praw.Reddit(client_id=reddit_api_credentials['client_id'],\n",
    "                                   client_secret=reddit_api_credentials['secret'],\n",
    "                                   user_agent=reddit_api_credentials['user_agent']) \n",
    "\n",
    "subreddit = reddit_read_only.subreddit(\"AskDocs\")"
   ]
  },
  {
   "cell_type": "code",
   "execution_count": null,
   "id": "b7047dff-9cda-4696-a98f-06c7305901e0",
   "metadata": {},
   "outputs": [],
   "source": [
    "random_posts = [\n",
    "    {\n",
    "        \"id\": post.id,\n",
    "        'post_text': f\"{post.title}\\n{post.selftext}\",\n",
    "        \"score\": post.score,\n",
    "        'total_comments': post.num_comments,\n",
    "        'post_url': post.url\n",
    "    }\n",
    "    for post in [\n",
    "        subreddit.random() \n",
    "        for i in range(1)\n",
    "    ]\n",
    "]"
   ]
  },
  {
   "cell_type": "code",
   "execution_count": null,
   "id": "849a4094-530a-4d58-bfdd-15391bbd6204",
   "metadata": {},
   "outputs": [],
   "source": [
    "labels = ['age', 'age_unit']\n",
    "reddit_posts = [post['post_text'] for post in random_posts]\n",
    "\n",
    "annotation_widget = jupyterannotate.AnnotateWidget(\n",
    "    docs = reddit_posts,\n",
    "    labels = labels\n",
    ")\n",
    "annotation_widget"
   ]
  },
  {
   "cell_type": "code",
   "execution_count": null,
   "id": "29fe91f6-2fbe-4aeb-b69e-6ee6cc7d160e",
   "metadata": {},
   "outputs": [],
   "source": [
    "def convert_char_to_token_labels(text, spans):\n",
    "    tokens = TreebankWordTokenizer().tokenize(text)\n",
    "    token_labels = ['O'] * len(tokens)  # Initialize all labels as 'O' (outside) by default\n",
    "    for span in spans:\n",
    "        for i, token in enumerate(tokens):\n",
    "            start_index = None\n",
    "            end_index = None\n",
    "            if token in TreebankWordTokenizer().tokenize(span['text']):\n",
    "                token_spans = [{'start': span[0], 'end': span[1]} for span in TreebankWordTokenizer().span_tokenize(text)]\n",
    "                string_matches = pd.DataFrame([{'index': index, 'start': token_spans[index]['start'], 'end': token_spans[index]['end']} \n",
    "                                               for index, token in enumerate(tokens) if token == tokens[i]]).set_index('index')\n",
    "                token_start = string_matches.loc[i, 'start']\n",
    "                token_end = string_matches.loc[i, 'end']\n",
    "                if span['start'] >= token_start and span['start'] <= token_end:\n",
    "                    start_index = i\n",
    "                if span['end'] >= token_start and span['end'] <= token_end:\n",
    "                    end_index = i\n",
    "                    \n",
    "            # Assign the label to the tokens within the span\n",
    "            if start_index is not None and end_index is not None:\n",
    "                token_labels[start_index] = 'B-' + span['label']  # Beginning of the span\n",
    "                for i in range(start_index + 1, end_index + 1):\n",
    "                    token_labels[i] = 'I-' + label  # Inside the span\n",
    "\n",
    "    return tokens, token_labels"
   ]
  },
  {
   "cell_type": "code",
   "execution_count": null,
   "id": "318d32d7-6321-46b0-81ac-298febf8d9ec",
   "metadata": {
    "scrolled": true
   },
   "outputs": [],
   "source": [
    "new_labels = []\n",
    "for i, labels in enumerate(annotation_widget.spans):\n",
    "    for label in labels:\n",
    "        tokens, token_labels = convert_char_to_token_labels(reddit_posts[i], annotation_widget.spans[i])\n",
    "        new_labels.append(\n",
    "            {\n",
    "                'post_id': random_posts[i]['id'],\n",
    "                'context': random_posts[i]['post_text'],\n",
    "                'tokens': tokens,\n",
    "                'token_labels': token_labels,\n",
    "                'score': random_posts[i]['score'],\n",
    "                'total_comments': random_posts[i]['total_comments'],\n",
    "                'post_url': random_posts[i]['post_url'],\n",
    "            }\n",
    "        )"
   ]
  },
  {
   "cell_type": "code",
   "execution_count": null,
   "id": "555cbbf0-4faa-4da8-987f-cdaa0daaf3bb",
   "metadata": {},
   "outputs": [],
   "source": [
    "if 'ner_labels.json' in os.listdir('../data/reddit_scraping/'):\n",
    "    with open('../data/reddit_scraping/ner_labels.json') as json_file:\n",
    "        new_labels.extend(json.load(json_file))\n",
    "        ner_labels = []\n",
    "        for label in new_labels:\n",
    "            if label not in ner_labels:\n",
    "                ner_labels.append(label)\n",
    "else:\n",
    "    ner_labels = new_labels\n",
    "\n",
    "ner_labels = [label for label in ner_labels if label is not None]\n",
    "with open('../data/reddit_scraping/ner_labels.json', 'w') as reddit_file:\n",
    "    json.dump(ner_labels, reddit_file, indent=4)"
   ]
  },
  {
   "cell_type": "code",
   "execution_count": null,
   "id": "b05d821c-a9a0-4f13-9723-5109466444c0",
   "metadata": {},
   "outputs": [],
   "source": [
    "len(ner_labels)"
   ]
  },
  {
   "cell_type": "code",
   "execution_count": null,
   "id": "00cd8abd-2232-456a-a414-eddaa7252c92",
   "metadata": {},
   "outputs": [],
   "source": []
  }
 ],
 "metadata": {
  "kernelspec": {
   "display_name": "Python 3 (ipykernel)",
   "language": "python",
   "name": "python3"
  },
  "language_info": {
   "codemirror_mode": {
    "name": "ipython",
    "version": 3
   },
   "file_extension": ".py",
   "mimetype": "text/x-python",
   "name": "python",
   "nbconvert_exporter": "python",
   "pygments_lexer": "ipython3",
   "version": "3.11.4"
  }
 },
 "nbformat": 4,
 "nbformat_minor": 5
}
