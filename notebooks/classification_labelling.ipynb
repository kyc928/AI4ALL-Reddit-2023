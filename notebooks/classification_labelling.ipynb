{
 "cells": [
  {
   "cell_type": "code",
   "execution_count": null,
   "id": "2ddcf4e6-75a5-4def-80bb-94af7f164c4c",
   "metadata": {},
   "outputs": [],
   "source": [
    "import json\n",
    "import pandas as pd\n",
    "import os\n",
    "\n",
    "import ipyannotations.text"
   ]
  },
  {
   "cell_type": "code",
   "execution_count": null,
   "id": "3b3af7bd-cb33-4afa-996e-8109f0f96b85",
   "metadata": {},
   "outputs": [],
   "source": [
    "if 'ner_labels.json' in os.listdir('../data/reddit_scraping/'):\n",
    "    with open('../data/reddit_scraping/ner_labels.json') as json_file:\n",
    "        ner_labels = json.load(json_file)\n",
    "        ner_labels = pd.DataFrame.from_dict([{'post_id': x['post_id'], 'context': x['context']} for x in ner_labels])\n",
    "else:\n",
    "    print(\"Do Token Classification Labelling First!\")"
   ]
  },
  {
   "cell_type": "code",
   "execution_count": null,
   "id": "cdb185e8-6776-45da-83aa-2bba407e7a7a",
   "metadata": {},
   "outputs": [],
   "source": [
    "if 'classification_labelsy.json' in os.listdir('../data/reddit_scraping/'):\n",
    "    with open('../data/reddit_scraping/classification_labels.json') as json_file:\n",
    "        classification_labels = pd.DataFrame.from_dict(json.load(json_file))\n",
    "else:\n",
    "    classification_labels = pd.DataFrame(columns = ['post_id'])"
   ]
  },
  {
   "cell_type": "code",
   "execution_count": null,
   "id": "06a1470d-a260-433a-8008-57419f738ef4",
   "metadata": {},
   "outputs": [],
   "source": [
    "posts_to_label = ner_labels[~ner_labels['post_id'].isin(classification_labels['post_id'])]"
   ]
  },
  {
   "cell_type": "code",
   "execution_count": null,
   "id": "7b7eb74c-249d-44c3-894c-0032b386c9a3",
   "metadata": {
    "scrolled": true
   },
   "outputs": [],
   "source": [
    "posts = posts_to_label['context'].tolist()\n",
    "gender_labels = []\n",
    "widget = ipyannotations.text.ClassLabeller(options=['Male', 'Female', 'Non-Binary', 'Not Disclosed'], allow_freetext=False)\n",
    "\n",
    "def store_annotations(gender_label):\n",
    "    gender_labels.append(gender_label)\n",
    "    try:\n",
    "        widget.display(\n",
    "            f\"\"\"\n",
    "            {len(posts)} Posts left to annotate\n",
    "            \n",
    "            {posts.pop(0)}\n",
    "            \"\"\"\n",
    "        )\n",
    "    except IndexError:\n",
    "        posts_to_label['gender_label'] = gender_labels\n",
    "        widget.clear()\n",
    "\n",
    "widget.on_submit(store_annotations)\n",
    "widget.display(posts.pop(0))\n",
    "widget"
   ]
  },
  {
   "cell_type": "code",
   "execution_count": null,
   "id": "801a3fcf-92b3-4beb-82f6-59d22196d46c",
   "metadata": {
    "scrolled": true
   },
   "outputs": [],
   "source": [
    "posts = posts_to_label['context'].tolist()\n",
    "subject_labels = []\n",
    "widget = ipyannotations.text.ClassLabeller(options=['Self', 'Other'], allow_freetext=False)\n",
    "\n",
    "def store_annotations(subject_label):\n",
    "    subject_labels.append(subject_label)\n",
    "    try:\n",
    "        widget.display(\n",
    "            f\"\"\"\n",
    "            {len(posts)} Posts left to annotate\n",
    "            \n",
    "            {posts.pop(0)}\n",
    "            \"\"\"\n",
    "        )\n",
    "    except IndexError:\n",
    "        posts_to_label['subject_label'] = subject_labels\n",
    "        widget.clear()\n",
    "\n",
    "widget.on_submit(store_annotations)\n",
    "widget.display(posts.pop(0))\n",
    "widget"
   ]
  },
  {
   "cell_type": "code",
   "execution_count": null,
   "id": "d243f76b-ffff-4d28-9b3f-646e9800f21a",
   "metadata": {},
   "outputs": [],
   "source": [
    "classification_labels = pd.concat([classification_labels, posts_to_label]).to_dict(orient = 'records')\n",
    "with open('../data/reddit_scraping/classification_labels.json', 'w') as reddit_file:\n",
    "    json.dump(classification_labels, reddit_file, indent=4)"
   ]
  },
  {
   "cell_type": "code",
   "execution_count": null,
   "id": "9fe35610-877e-48ea-b61b-486bb41586e5",
   "metadata": {},
   "outputs": [],
   "source": []
  }
 ],
 "metadata": {
  "kernelspec": {
   "display_name": "Python 3 (ipykernel)",
   "language": "python",
   "name": "python3"
  },
  "language_info": {
   "codemirror_mode": {
    "name": "ipython",
    "version": 3
   },
   "file_extension": ".py",
   "mimetype": "text/x-python",
   "name": "python",
   "nbconvert_exporter": "python",
   "pygments_lexer": "ipython3",
   "version": "3.11.4"
  }
 },
 "nbformat": 4,
 "nbformat_minor": 5
}
