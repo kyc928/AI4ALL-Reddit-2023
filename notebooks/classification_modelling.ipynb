{
 "cells": [
  {
   "cell_type": "code",
   "execution_count": null,
   "id": "18b7c76d-67f3-4754-86d4-297ede25cd71",
   "metadata": {},
   "outputs": [],
   "source": [
    "import praw\n",
    "import json\n",
    "import pandas as pd\n",
    "import numpy as np\n",
    "from datasets import load_dataset, Dataset\n",
    "import evaluate\n",
    "\n",
    "from transformers import AutoTokenizer\n",
    "from transformers import DataCollatorWithPadding\n",
    "from transformers import AutoModelForSequenceClassification, TrainingArguments, Trainer\n",
    "from transformers import pipeline"
   ]
  },
  {
   "cell_type": "code",
   "execution_count": null,
   "id": "be113b82-824f-4bcb-acf4-164129c82dc1",
   "metadata": {},
   "outputs": [],
   "source": [
    "with open('../data/reddit_scraping/classification_labels.json') as json_file:\n",
    "    classification_labels = pd.DataFrame(json.load(json_file))\n",
    "    classification_labels[\"gender_label\"] = classification_labels[\"gender_label\"].map({\n",
    "        \"Male\": 0,\n",
    "        \"Female\": 1,\n",
    "        \"Non-Binary\": 2,\n",
    "        \"Not Disclosed\": 3\n",
    "    })\n",
    "    classification_labels[\"subject_label\"] = classification_labels[\"subject_label\"].map({\n",
    "        \"Self\": 0,\n",
    "        \"Other\": 1\n",
    "    })"
   ]
  },
  {
   "cell_type": "code",
   "execution_count": null,
   "id": "cba003d8-a636-4ef8-9484-8b0bc1b0d1e8",
   "metadata": {},
   "outputs": [],
   "source": [
    "classification_labels = Dataset.from_pandas(classification_labels)\n",
    "classification_labels = classification_labels.train_test_split(test_size=0.1)"
   ]
  },
  {
   "cell_type": "code",
   "execution_count": null,
   "id": "ded2ad31-3701-4dae-af4a-43b61657cf12",
   "metadata": {},
   "outputs": [],
   "source": [
    "tokenizer = AutoTokenizer.from_pretrained(\"distilbert-base-cased\")"
   ]
  },
  {
   "cell_type": "code",
   "execution_count": null,
   "id": "b4f37db2-7dff-4acc-8ce2-3288ee367d27",
   "metadata": {},
   "outputs": [],
   "source": [
    "def preprocess_function_gender(examples):\n",
    "    examples[\"text\"] = examples[\"context\"]\n",
    "    examples[\"label\"] = examples[\"gender_label\"]\n",
    "    return tokenizer(examples[\"text\"], truncation=True, padding = True)\n",
    "tokenized_posts_gender = classification_labels.map(preprocess_function_gender, batched=True)\n",
    "\n",
    "def preprocess_function_subject(examples):\n",
    "    examples[\"text\"] = examples[\"context\"]\n",
    "    examples[\"label\"] = examples[\"subject_label\"]\n",
    "    return tokenizer(examples[\"text\"], truncation=True, padding = True)\n",
    "tokenized_posts_subject = classification_labels.map(preprocess_function_subject, batched=True)"
   ]
  },
  {
   "cell_type": "code",
   "execution_count": null,
   "id": "01bcd864-3602-4bc3-98fa-6a6cfc3ac5f5",
   "metadata": {},
   "outputs": [],
   "source": [
    "data_collator = DataCollatorWithPadding(tokenizer=tokenizer)"
   ]
  },
  {
   "cell_type": "code",
   "execution_count": null,
   "id": "f03981d7-5462-481b-8ccf-0a0430d5ff32",
   "metadata": {
    "scrolled": true
   },
   "outputs": [],
   "source": [
    "gender_model = AutoModelForSequenceClassification.from_pretrained(\n",
    "    \"distilbert-base-cased\", \n",
    "    num_labels=4, \n",
    "    id2label={\n",
    "        0: \"Male\",\n",
    "        1: \"Female\",\n",
    "        2: \"Non-Binary\",\n",
    "        3: \"Not Disclosed\"\n",
    "    }, \n",
    "    label2id={\n",
    "        \"Male\": 0,\n",
    "        \"Female\": 1,\n",
    "        \"Non-Binary\": 2,\n",
    "        \"Not Disclosed\": 3\n",
    "    }\n",
    ")\n",
    "\n",
    "subject_model = AutoModelForSequenceClassification.from_pretrained(\n",
    "    \"distilbert-base-cased\", \n",
    "    num_labels=2, \n",
    "    id2label={\n",
    "        0: \"Self\",\n",
    "        1: \"Other\"\n",
    "    }, \n",
    "    label2id={\n",
    "        \"Self\": 0,\n",
    "        \"Other\": 1\n",
    "    }\n",
    ")"
   ]
  },
  {
   "cell_type": "code",
   "execution_count": null,
   "id": "3c4a6ff9-0727-48f0-9ae2-30857dce8869",
   "metadata": {},
   "outputs": [],
   "source": [
    "recall_metric = evaluate.load(\"recall\")\n",
    "precision_metric = evaluate.load(\"precision\")\n",
    "f1_metric = evaluate.load(\"f1\")\n",
    "accuracy_metric = evaluate.load(\"accuracy\")\n",
    "\n",
    "def compute_metrics(eval_pred):\n",
    "    logits, labels = eval_pred\n",
    "    predictions = np.argmax(logits, axis=-1)\n",
    "    return {\n",
    "        'recall': recall_metric.compute(predictions=predictions, references=labels, average=\"weighted\")['recall'],\n",
    "        'precision': precision_metric.compute(predictions=predictions, references=labels, average=\"weighted\")['precision'],\n",
    "        'f1 score': f1_metric.compute(predictions=predictions, references=labels, average=\"weighted\")['f1'],\n",
    "        'accuracy': accuracy_metric.compute(predictions=predictions, references=labels)['accuracy'],\n",
    "    }"
   ]
  },
  {
   "cell_type": "code",
   "execution_count": null,
   "id": "6d62c2a9-87ce-4e40-9c90-1a2866b73945",
   "metadata": {},
   "outputs": [],
   "source": [
    "gender_training_args = TrainingArguments(\n",
    "    output_dir=\"../models/gender_training\",\n",
    "    learning_rate=5e-5,\n",
    "    per_device_train_batch_size=16,\n",
    "    per_device_eval_batch_size=16,\n",
    "    num_train_epochs=10,\n",
    "    weight_decay=0.01, \n",
    "    evaluation_strategy=\"epoch\",\n",
    "    save_strategy=\"epoch\",\n",
    "    load_best_model_at_end=True,\n",
    "    # use_mps_device=True\n",
    ")\n",
    "\n",
    "gender_trainer = Trainer(\n",
    "    model=gender_model,\n",
    "    args=gender_training_args,\n",
    "    train_dataset=tokenized_posts_gender[\"train\"],\n",
    "    eval_dataset=tokenized_posts_gender[\"test\"],\n",
    "    tokenizer=tokenizer,\n",
    "    data_collator=data_collator,\n",
    "    compute_metrics=compute_metrics,\n",
    ")\n",
    "\n",
    "gender_trainer.train()"
   ]
  },
  {
   "cell_type": "code",
   "execution_count": null,
   "id": "3ea77d30-005c-4f20-b219-2ba7a9f1906f",
   "metadata": {},
   "outputs": [],
   "source": [
    "gender_trainer.save_model(\"../models/gender_training\")"
   ]
  },
  {
   "cell_type": "code",
   "execution_count": 102,
   "id": "a67c1775-a351-4b77-aa07-f5f4d35f7aa9",
   "metadata": {},
   "outputs": [
    {
     "data": {
      "application/vnd.jupyter.widget-view+json": {
       "model_id": "83842fca715243e8a0212b46d9a7ecca",
       "version_major": 2,
       "version_minor": 0
      },
      "text/plain": [
       "  0%|          | 0/1150 [00:00<?, ?it/s]"
      ]
     },
     "metadata": {},
     "output_type": "display_data"
    },
    {
     "data": {
      "application/vnd.jupyter.widget-view+json": {
       "model_id": "856ad367e13d4906995f14653e905973",
       "version_major": 2,
       "version_minor": 0
      },
      "text/plain": [
       "  0%|          | 0/13 [00:00<?, ?it/s]"
      ]
     },
     "metadata": {},
     "output_type": "display_data"
    },
    {
     "name": "stdout",
     "output_type": "stream",
     "text": [
      "{'eval_loss': 0.1546141356229782, 'eval_recall': 0.946078431372549, 'eval_precision': 0.9407267030523551, 'eval_f1 score': 0.942771891365242, 'eval_accuracy': 0.946078431372549, 'eval_runtime': 40.0235, 'eval_samples_per_second': 5.097, 'eval_steps_per_second': 0.325, 'epoch': 1.0}\n"
     ]
    },
    {
     "data": {
      "application/vnd.jupyter.widget-view+json": {
       "model_id": "38e185691fb54598a6623b5cd7bd9ebc",
       "version_major": 2,
       "version_minor": 0
      },
      "text/plain": [
       "  0%|          | 0/13 [00:00<?, ?it/s]"
      ]
     },
     "metadata": {},
     "output_type": "display_data"
    },
    {
     "name": "stdout",
     "output_type": "stream",
     "text": [
      "{'eval_loss': 0.24668292701244354, 'eval_recall': 0.9264705882352942, 'eval_precision': 0.9394282802726825, 'eval_f1 score': 0.9319127839379098, 'eval_accuracy': 0.9264705882352942, 'eval_runtime': 41.9011, 'eval_samples_per_second': 4.869, 'eval_steps_per_second': 0.31, 'epoch': 2.0}\n"
     ]
    },
    {
     "data": {
      "application/vnd.jupyter.widget-view+json": {
       "model_id": "0842e9f3df474ed68c456cc74ac9d89e",
       "version_major": 2,
       "version_minor": 0
      },
      "text/plain": [
       "  0%|          | 0/13 [00:00<?, ?it/s]"
      ]
     },
     "metadata": {},
     "output_type": "display_data"
    },
    {
     "name": "stdout",
     "output_type": "stream",
     "text": [
      "{'eval_loss': 0.1404285579919815, 'eval_recall': 0.9607843137254902, 'eval_precision': 0.9570303335009217, 'eval_f1 score': 0.9574224414212223, 'eval_accuracy': 0.9607843137254902, 'eval_runtime': 40.8813, 'eval_samples_per_second': 4.99, 'eval_steps_per_second': 0.318, 'epoch': 3.0}\n"
     ]
    },
    {
     "data": {
      "application/vnd.jupyter.widget-view+json": {
       "model_id": "a7d22dcac84e44738c94abc731552f78",
       "version_major": 2,
       "version_minor": 0
      },
      "text/plain": [
       "  0%|          | 0/13 [00:00<?, ?it/s]"
      ]
     },
     "metadata": {},
     "output_type": "display_data"
    },
    {
     "name": "stdout",
     "output_type": "stream",
     "text": [
      "{'eval_loss': 0.16953930258750916, 'eval_recall': 0.9607843137254902, 'eval_precision': 0.9583645045394512, 'eval_f1 score': 0.9592524509803921, 'eval_accuracy': 0.9607843137254902, 'eval_runtime': 39.6712, 'eval_samples_per_second': 5.142, 'eval_steps_per_second': 0.328, 'epoch': 4.0}\n",
      "{'loss': 0.154, 'learning_rate': 2.826086956521739e-05, 'epoch': 4.35}\n"
     ]
    },
    {
     "data": {
      "application/vnd.jupyter.widget-view+json": {
       "model_id": "c0d2632de8f744b9a010a5bb05b481df",
       "version_major": 2,
       "version_minor": 0
      },
      "text/plain": [
       "  0%|          | 0/13 [00:00<?, ?it/s]"
      ]
     },
     "metadata": {},
     "output_type": "display_data"
    },
    {
     "name": "stdout",
     "output_type": "stream",
     "text": [
      "{'eval_loss': 0.19743870198726654, 'eval_recall': 0.9607843137254902, 'eval_precision': 0.9570303335009217, 'eval_f1 score': 0.9574224414212223, 'eval_accuracy': 0.9607843137254902, 'eval_runtime': 38.065, 'eval_samples_per_second': 5.359, 'eval_steps_per_second': 0.342, 'epoch': 5.0}\n"
     ]
    },
    {
     "data": {
      "application/vnd.jupyter.widget-view+json": {
       "model_id": "bc8dbed8a5934959ad9b3a3fb371bdbd",
       "version_major": 2,
       "version_minor": 0
      },
      "text/plain": [
       "  0%|          | 0/13 [00:00<?, ?it/s]"
      ]
     },
     "metadata": {},
     "output_type": "display_data"
    },
    {
     "name": "stdout",
     "output_type": "stream",
     "text": [
      "{'eval_loss': 0.20287811756134033, 'eval_recall': 0.9656862745098039, 'eval_precision': 0.9631241156256317, 'eval_f1 score': 0.963582112686972, 'eval_accuracy': 0.9656862745098039, 'eval_runtime': 38.0767, 'eval_samples_per_second': 5.358, 'eval_steps_per_second': 0.341, 'epoch': 6.0}\n"
     ]
    },
    {
     "data": {
      "application/vnd.jupyter.widget-view+json": {
       "model_id": "d8878b6d38014eaeb3dcb5f857abd030",
       "version_major": 2,
       "version_minor": 0
      },
      "text/plain": [
       "  0%|          | 0/13 [00:00<?, ?it/s]"
      ]
     },
     "metadata": {},
     "output_type": "display_data"
    },
    {
     "name": "stdout",
     "output_type": "stream",
     "text": [
      "{'eval_loss': 0.2331494390964508, 'eval_recall': 0.9607843137254902, 'eval_precision': 0.9583645045394512, 'eval_f1 score': 0.9592524509803921, 'eval_accuracy': 0.9607843137254902, 'eval_runtime': 40.2675, 'eval_samples_per_second': 5.066, 'eval_steps_per_second': 0.323, 'epoch': 7.0}\n"
     ]
    },
    {
     "data": {
      "application/vnd.jupyter.widget-view+json": {
       "model_id": "a9a06291de654e03a4d64e695050511c",
       "version_major": 2,
       "version_minor": 0
      },
      "text/plain": [
       "  0%|          | 0/13 [00:00<?, ?it/s]"
      ]
     },
     "metadata": {},
     "output_type": "display_data"
    },
    {
     "name": "stdout",
     "output_type": "stream",
     "text": [
      "{'eval_loss': 0.2531433403491974, 'eval_recall': 0.9607843137254902, 'eval_precision': 0.9583645045394512, 'eval_f1 score': 0.9592524509803921, 'eval_accuracy': 0.9607843137254902, 'eval_runtime': 39.9887, 'eval_samples_per_second': 5.101, 'eval_steps_per_second': 0.325, 'epoch': 8.0}\n",
      "{'loss': 0.0615, 'learning_rate': 6.521739130434783e-06, 'epoch': 8.7}\n"
     ]
    },
    {
     "data": {
      "application/vnd.jupyter.widget-view+json": {
       "model_id": "b6b3b7a658a7418d827f1cd49015f543",
       "version_major": 2,
       "version_minor": 0
      },
      "text/plain": [
       "  0%|          | 0/13 [00:00<?, ?it/s]"
      ]
     },
     "metadata": {},
     "output_type": "display_data"
    },
    {
     "name": "stdout",
     "output_type": "stream",
     "text": [
      "{'eval_loss': 0.25796064734458923, 'eval_recall': 0.9607843137254902, 'eval_precision': 0.9583645045394512, 'eval_f1 score': 0.9592524509803921, 'eval_accuracy': 0.9607843137254902, 'eval_runtime': 122.1621, 'eval_samples_per_second': 1.67, 'eval_steps_per_second': 0.106, 'epoch': 9.0}\n"
     ]
    },
    {
     "data": {
      "application/vnd.jupyter.widget-view+json": {
       "model_id": "9d66d12ccd6743abaa9960b72de95a29",
       "version_major": 2,
       "version_minor": 0
      },
      "text/plain": [
       "  0%|          | 0/13 [00:00<?, ?it/s]"
      ]
     },
     "metadata": {},
     "output_type": "display_data"
    },
    {
     "name": "stdout",
     "output_type": "stream",
     "text": [
      "{'eval_loss': 0.26705169677734375, 'eval_recall': 0.9607843137254902, 'eval_precision': 0.9583645045394512, 'eval_f1 score': 0.9592524509803921, 'eval_accuracy': 0.9607843137254902, 'eval_runtime': 41.1475, 'eval_samples_per_second': 4.958, 'eval_steps_per_second': 0.316, 'epoch': 10.0}\n",
      "{'train_runtime': 10112.476, 'train_samples_per_second': 1.81, 'train_steps_per_second': 0.114, 'train_loss': 0.09741942239844281, 'epoch': 10.0}\n"
     ]
    },
    {
     "data": {
      "text/plain": [
       "TrainOutput(global_step=1150, training_loss=0.09741942239844281, metrics={'train_runtime': 10112.476, 'train_samples_per_second': 1.81, 'train_steps_per_second': 0.114, 'train_loss': 0.09741942239844281, 'epoch': 10.0})"
      ]
     },
     "execution_count": 102,
     "metadata": {},
     "output_type": "execute_result"
    }
   ],
   "source": [
    "subject_training_args = TrainingArguments(\n",
    "    output_dir=\"../models/subject_training\",\n",
    "    learning_rate=5e-5,\n",
    "    per_device_train_batch_size=16,\n",
    "    per_device_eval_batch_size=16,\n",
    "    num_train_epochs=10,\n",
    "    weight_decay=0.01, \n",
    "    evaluation_strategy=\"epoch\",\n",
    "    save_strategy=\"epoch\",\n",
    "    load_best_model_at_end=True,\n",
    "    # use_mps_device=True\n",
    ")\n",
    "\n",
    "subject_trainer = Trainer(\n",
    "    model=subject_model,\n",
    "    args=subject_training_args,\n",
    "    train_dataset=tokenized_posts_subject[\"train\"],\n",
    "    eval_dataset=tokenized_posts_subject[\"test\"],\n",
    "    tokenizer=tokenizer,\n",
    "    data_collator=data_collator,\n",
    "    compute_metrics=compute_metrics,\n",
    ")\n",
    "\n",
    "subject_trainer.train()"
   ]
  },
  {
   "cell_type": "code",
   "execution_count": 103,
   "id": "aed78b93-dffe-488f-8658-1e011652827f",
   "metadata": {},
   "outputs": [],
   "source": [
    "subject_trainer.save_model(\"../models/subject_training\")"
   ]
  },
  {
   "cell_type": "markdown",
   "id": "44b40d25-9e52-4107-9642-a75f7feca47b",
   "metadata": {},
   "source": [
    "# Test Model"
   ]
  },
  {
   "cell_type": "code",
   "execution_count": 110,
   "id": "840c38f3-ed36-4555-861b-0f1722fd42e7",
   "metadata": {},
   "outputs": [],
   "source": [
    "with open('../reddit_api.json') as json_file:\n",
    "    reddit_api_credentials = json.load(json_file)\n",
    "    reddit_read_only = praw.Reddit(client_id=reddit_api_credentials['client_id'],\n",
    "                                   client_secret=reddit_api_credentials['secret'],\n",
    "                                   user_agent=reddit_api_credentials['user_agent']) \n",
    "\n",
    "subreddit = reddit_read_only.subreddit(\"AskDocs\")"
   ]
  },
  {
   "cell_type": "code",
   "execution_count": 111,
   "id": "76e02ff9-e5a4-487f-b8c6-dc7ff6224d4d",
   "metadata": {},
   "outputs": [
    {
     "data": {
      "text/plain": [
       "\"My wife (31F) and I (32M) are getting prepared to try for our second child. Both times, she has wanted me to be sober (from alcohol) for at least 30 days before ovulation and trying because it is supposed to be beneficial. If I drink once during that period, does it defeat the whole purpose?\\nI have to travel for work this week and know my coworkers will want to go out for dinner and drink. I would like to participate but if it would essentially restart the clock that would be a problem. Is the benefit from a long period of ZERO alcohol or is the benefit from seriously cutting back for a while? I don't want to be stupid just for the sake of one night if it really matters.\""
      ]
     },
     "execution_count": 111,
     "metadata": {},
     "output_type": "execute_result"
    }
   ],
   "source": [
    "random_post = subreddit.random()\n",
    "context = f\"{random_post.title}\\n{random_post.selftext}\"\n",
    "context"
   ]
  },
  {
   "cell_type": "code",
   "execution_count": 112,
   "id": "64e751b5-2b78-48e1-a3d8-80afb3a2351f",
   "metadata": {},
   "outputs": [
    {
     "data": {
      "text/plain": [
       "[{'label': 'Male', 'score': 0.9987389445304871}]"
      ]
     },
     "execution_count": 112,
     "metadata": {},
     "output_type": "execute_result"
    }
   ],
   "source": [
    "classifier = pipeline(\"text-classification\", \n",
    "                             truncation=True, \n",
    "                             padding = True, \n",
    "                             model=\"../models/gender_training\")\n",
    "classifier(context)"
   ]
  },
  {
   "cell_type": "code",
   "execution_count": 113,
   "id": "1738c659-61b2-4c4e-9eb4-29ec6f6d6bf1",
   "metadata": {},
   "outputs": [
    {
     "data": {
      "text/plain": [
       "[{'label': 'Self', 'score': 0.989680826663971}]"
      ]
     },
     "execution_count": 113,
     "metadata": {},
     "output_type": "execute_result"
    }
   ],
   "source": [
    "classifier = pipeline(\"text-classification\", \n",
    "                             truncation=True, \n",
    "                             padding = True, \n",
    "                             model=\"../models/subject_training\")\n",
    "classifier(context)"
   ]
  },
  {
   "cell_type": "code",
   "execution_count": 114,
   "id": "8599819d-b7c8-4c83-94b7-7e2b1d6a79d8",
   "metadata": {},
   "outputs": [
    {
     "data": {
      "application/vnd.jupyter.widget-view+json": {
       "model_id": "cd666fb519b447c69f8ed76f444dbfc7",
       "version_major": 2,
       "version_minor": 0
      },
      "text/plain": [
       "  0%|          | 0/13 [00:00<?, ?it/s]"
      ]
     },
     "metadata": {},
     "output_type": "display_data"
    },
    {
     "name": "stdout",
     "output_type": "stream",
     "text": [
      "{'eval_loss': 1.4156204462051392, 'eval_recall': 0.014705882352941176, 'eval_precision': 0.0002184041933605125, 'eval_f1 score': 0.000430416068866571, 'eval_accuracy': 0.014705882352941176, 'eval_runtime': 37.1528, 'eval_samples_per_second': 5.491, 'eval_steps_per_second': 0.35, 'epoch': 0}\n"
     ]
    },
    {
     "name": "stderr",
     "output_type": "stream",
     "text": [
      "c:\\Users\\kevin\\OneDrive\\Documents\\GitHub\\reddit_2023\\env\\Lib\\site-packages\\sklearn\\metrics\\_classification.py:1469: UndefinedMetricWarning: Precision is ill-defined and being set to 0.0 in labels with no predicted samples. Use `zero_division` parameter to control this behavior.\n",
      "  _warn_prf(average, modifier, msg_start, len(result))\n"
     ]
    },
    {
     "data": {
      "text/plain": [
       "{'eval_loss': 1.4156204462051392,\n",
       " 'eval_recall': 0.014705882352941176,\n",
       " 'eval_precision': 0.0002184041933605125,\n",
       " 'eval_f1 score': 0.000430416068866571,\n",
       " 'eval_accuracy': 0.014705882352941176,\n",
       " 'eval_runtime': 37.1528,\n",
       " 'eval_samples_per_second': 5.491,\n",
       " 'eval_steps_per_second': 0.35,\n",
       " 'epoch': 0}"
      ]
     },
     "execution_count": 114,
     "metadata": {},
     "output_type": "execute_result"
    }
   ],
   "source": [
    "gender_trainer.evaluate()"
   ]
  },
  {
   "cell_type": "code",
   "execution_count": 109,
   "id": "368cdd3d-62ef-4ce4-bde4-925fe89c0096",
   "metadata": {},
   "outputs": [
    {
     "data": {
      "application/vnd.jupyter.widget-view+json": {
       "model_id": "48a685ae86284133b54aaadee3fa67f9",
       "version_major": 2,
       "version_minor": 0
      },
      "text/plain": [
       "  0%|          | 0/13 [00:00<?, ?it/s]"
      ]
     },
     "metadata": {},
     "output_type": "display_data"
    },
    {
     "data": {
      "text/plain": [
       "{'eval_loss': 0.1404285579919815,\n",
       " 'eval_recall': 0.9607843137254902,\n",
       " 'eval_precision': 0.9570303335009217,\n",
       " 'eval_f1 score': 0.9574224414212223,\n",
       " 'eval_accuracy': 0.9607843137254902,\n",
       " 'eval_runtime': 38.6312,\n",
       " 'eval_samples_per_second': 5.281,\n",
       " 'eval_steps_per_second': 0.337,\n",
       " 'epoch': 10.0}"
      ]
     },
     "execution_count": 109,
     "metadata": {},
     "output_type": "execute_result"
    }
   ],
   "source": [
    "subject_trainer.evaluate()"
   ]
  },
  {
   "cell_type": "code",
   "execution_count": null,
   "id": "2b7eec66-21aa-4321-b98e-393c18b7ea6c",
   "metadata": {},
   "outputs": [],
   "source": []
  }
 ],
 "metadata": {
  "kernelspec": {
   "display_name": "Python 3 (ipykernel)",
   "language": "python",
   "name": "python3"
  },
  "language_info": {
   "codemirror_mode": {
    "name": "ipython",
    "version": 3
   },
   "file_extension": ".py",
   "mimetype": "text/x-python",
   "name": "python",
   "nbconvert_exporter": "python",
   "pygments_lexer": "ipython3",
   "version": "3.11.4"
  }
 },
 "nbformat": 4,
 "nbformat_minor": 5
}
