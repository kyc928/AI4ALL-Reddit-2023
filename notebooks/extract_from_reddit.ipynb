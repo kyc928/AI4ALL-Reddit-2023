{
 "cells": [
  {
   "cell_type": "code",
   "execution_count": null,
   "id": "8f8c398c-c9bd-4332-80a3-2dd5626e4bd4",
   "metadata": {},
   "outputs": [],
   "source": [
    "import os\n",
    "import json\n",
    "\n",
    "import pandas as pd\n",
    "import numpy as np\n",
    "import matplotlib.pyplot as plt\n",
    "\n",
    "import praw\n",
    "\n",
    "from transformers import AutoTokenizer, pipeline\n",
    "\n",
    "from thefuzz import fuzz,process\n",
    "from word2number import w2n"
   ]
  },
  {
   "cell_type": "code",
   "execution_count": null,
   "id": "65c13081-b911-4283-8fbb-1883c9cf7459",
   "metadata": {},
   "outputs": [],
   "source": [
    "with open('../reddit_api.json') as json_file:\n",
    "    reddit_api_credentials = json.load(json_file)\n",
    "    reddit_read_only = praw.Reddit(client_id=reddit_api_credentials['client_id'],\n",
    "                                   client_secret=reddit_api_credentials['secret'],\n",
    "                                   user_agent=reddit_api_credentials['user_agent']) \n",
    "\n",
    "subreddit = reddit_read_only.subreddit(\"AskDocs\")"
   ]
  },
  {
   "cell_type": "code",
   "execution_count": null,
   "id": "7ff699a2-1bf9-4a48-bf3e-2be887f8b48f",
   "metadata": {},
   "outputs": [],
   "source": [
    "tokenizer = AutoTokenizer.from_pretrained(\"distilbert-base-cased\")\n",
    "age_extractor = pipeline(\"ner\", model=\"../models/age_token_classification\", tokenizer=tokenizer)\n",
    "gender_extractor = pipeline(\"text-classification\", \n",
    "                            model=\"../models/gender_training\",\n",
    "                            truncation=True, \n",
    "                            padding = True, )\n",
    "subject_extractor = pipeline(\"text-classification\", \n",
    "                            model=\"../models/subject_training\",\n",
    "                            truncation=True, \n",
    "                            padding = True, )"
   ]
  },
  {
   "cell_type": "code",
   "execution_count": null,
   "id": "bc976e49-26bc-414e-9992-23947ae4ecda",
   "metadata": {},
   "outputs": [],
   "source": [
    "def resolve_age(age_extracts):\n",
    "    if len(age_extracts) == 0:\n",
    "        resolved_age = None\n",
    "    else:\n",
    "        units = [entity for entity in age_extracts if entity['entity'] == 'B-age_unit']\n",
    "        if len(units) > 0:\n",
    "            collection = ['years', 'months']\n",
    "            resolved_unit = process.extract(units[0]['word'], collection, scorer=fuzz.ratio)[0][0]\n",
    "        else:\n",
    "            resolved_unit = 'years'\n",
    "        age_words = [entity for entity in age_extracts if entity['entity'] in ['B-age', 'I-age']]\n",
    "        if len(age_words) == 0:\n",
    "            resolved_age = None\n",
    "        else:\n",
    "            try:\n",
    "                resolved_age = int(age_words[0]['word'])\n",
    "            except:\n",
    "                try:\n",
    "                    resolved_age = w2n.word_to_num(age_words[0]['word'])\n",
    "                except:\n",
    "                    resolved_age = None\n",
    "        if resolved_unit == 'months':\n",
    "            resolved_age = None\n",
    "    return resolved_age"
   ]
  },
  {
   "cell_type": "code",
   "execution_count": null,
   "id": "0e0ff95d-390a-49dc-89ce-9ca00de95882",
   "metadata": {},
   "outputs": [],
   "source": [
    "random_posts = [\n",
    "    {\n",
    "        \"id\": post.id,\n",
    "        'post_text': f\"{post.title}\\n{post.selftext}\",\n",
    "        \"score\": post.score,\n",
    "        'total_comments': post.num_comments,\n",
    "        'post_url': post.url\n",
    "    }\n",
    "    for post in [\n",
    "        subreddit.random() \n",
    "        for i in range(100)\n",
    "    ]\n",
    "]\n",
    "random_posts_df = pd.DataFrame.from_dict(random_posts)"
   ]
  },
  {
   "cell_type": "code",
   "execution_count": null,
   "id": "2bd7edf5-ea14-4f9e-9485-c50b3f481dc2",
   "metadata": {},
   "outputs": [],
   "source": [
    "age_extracts = age_extractor([post['post_text'] for post in random_posts])\n",
    "random_posts_df['resolved_age'] = [resolve_age(age_extract) for age_extract in age_extracts]\n",
    "random_posts_df['resolved_gender'] = [extract['label'] \n",
    "                                      for extract in gender_extractor([post['post_text'] \n",
    "                                                                       for post in random_posts])]\n",
    "random_posts_df['resolved_subject'] = [extract['label'] \n",
    "                                       for extract in subject_extractor([post['post_text'] \n",
    "                                                                         for post in random_posts])]\n",
    "random_posts_df"
   ]
  },
  {
   "cell_type": "code",
   "execution_count": null,
   "id": "0fcb1ba0-14fc-48a6-a356-47b3f3c6dbce",
   "metadata": {},
   "outputs": [],
   "source": [
    "if 'resolved_random_posts.csv' in os.listdir('../data/'):\n",
    "    random_posts_df = pd.concat(\n",
    "        [\n",
    "            pd.read_csv('../data/resolved_random_posts.csv'),\n",
    "            random_posts_df\n",
    "        ]\n",
    "    )\n",
    "    random_posts_df.drop_duplicates(subset = 'id', keep = 'last', inplace = True)\n",
    "\n",
    "random_posts_df.to_csv('../data/resolved_random_posts.csv', index = False)\n",
    "len(random_posts_df)"
   ]
  },
  {
   "cell_type": "code",
   "execution_count": null,
   "id": "57f7084a",
   "metadata": {},
   "outputs": [],
   "source": [
    "plt.hist(random_posts_df['resolved_age'])\n",
    "plt.title('Who is posting on r/AskDocs?')\n",
    "plt.xlabel('Age')\n",
    "plt.ylabel('Frequency')"
   ]
  },
  {
   "cell_type": "code",
   "execution_count": null,
   "id": "16a2be14",
   "metadata": {},
   "outputs": [],
   "source": [
    "random_posts_df['resolved_gender'].value_counts().plot(kind = 'barh')\n"
   ]
  },
  {
   "cell_type": "code",
   "execution_count": null,
   "id": "e978ee69",
   "metadata": {},
   "outputs": [],
   "source": [
    "random_posts_df['resolved_subject'].value_counts().plot(kind = 'barh')\n"
   ]
  },
  {
   "cell_type": "code",
   "execution_count": null,
   "id": "56fee443",
   "metadata": {},
   "outputs": [],
   "source": [
    "plt.hist(random_posts_df.loc[random_posts_df['resolved_subject'] == 'Other','resolved_age'])\n",
    "plt.xlabel('Age')\n",
    "plt.title('How old are people in the other category')"
   ]
  },
  {
   "cell_type": "code",
   "execution_count": null,
   "id": "0f7dfdbf-b3e8-462d-9f3f-024d2372266a",
   "metadata": {},
   "outputs": [],
   "source": [
    "random_posts_df"
   ]
  }
 ],
 "metadata": {
  "kernelspec": {
   "display_name": "Python 3 (ipykernel)",
   "language": "python",
   "name": "python3"
  },
  "language_info": {
   "codemirror_mode": {
    "name": "ipython",
    "version": 3
   },
   "file_extension": ".py",
   "mimetype": "text/x-python",
   "name": "python",
   "nbconvert_exporter": "python",
   "pygments_lexer": "ipython3",
   "version": "3.11.4"
  }
 },
 "nbformat": 4,
 "nbformat_minor": 5
}
