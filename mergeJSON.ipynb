{
 "cells": [
  {
   "cell_type": "code",
   "execution_count": 16,
   "metadata": {},
   "outputs": [],
   "source": [
    "import os\n",
    "import json"
   ]
  },
  {
   "cell_type": "code",
   "execution_count": 17,
   "metadata": {},
   "outputs": [],
   "source": [
    "def merge_json_files(folder_path, output_file, output_folder):\n",
    "    merged_data = []\n",
    "    \n",
    "    file_list = os.listdir(folder_path)\n",
    "    \n",
    "    json_files = [file for file in file_list if file.endswith('.json')]\n",
    "    \n",
    "    for json_file in json_files:\n",
    "        file_path = os.path.join(folder_path, json_file)\n",
    "        with open(file_path, 'r') as file:\n",
    "            data = json.load(file)\n",
    "            merged_data.extend(data)\n",
    "    \n",
    "    os.makedirs(output_folder, exist_ok=True)\n",
    "    \n",
    "    output_file_path = os.path.join(output_folder, output_file)\n",
    "    with open(output_file_path, 'w') as out_file:\n",
    "        json.dump(merged_data, out_file, indent=4)"
   ]
  },
  {
   "cell_type": "code",
   "execution_count": 18,
   "metadata": {},
   "outputs": [],
   "source": [
    "merge_json_files('Classification', 'classification_labels.json', 'data/reddit_scraping')"
   ]
  },
  {
   "cell_type": "code",
   "execution_count": 19,
   "metadata": {},
   "outputs": [],
   "source": [
    "merge_json_files('NER', 'ner_labels.json', 'data/reddit_scraping')"
   ]
  }
 ],
 "metadata": {
  "kernelspec": {
   "display_name": "env",
   "language": "python",
   "name": "python3"
  },
  "language_info": {
   "codemirror_mode": {
    "name": "ipython",
    "version": 3
   },
   "file_extension": ".py",
   "mimetype": "text/x-python",
   "name": "python",
   "nbconvert_exporter": "python",
   "pygments_lexer": "ipython3",
   "version": "3.11.4"
  },
  "orig_nbformat": 4
 },
 "nbformat": 4,
 "nbformat_minor": 2
}
